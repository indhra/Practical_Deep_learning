{
 "cells": [
  {
   "cell_type": "code",
   "execution_count": 1,
   "metadata": {},
   "outputs": [
    {
     "name": "stdout",
     "output_type": "stream",
     "text": [
      "Requirement already satisfied: fastai in c:\\users\\indhrna\\appdata\\local\\programs\\python\\python37\\lib\\site-packages (2.7.12)\n",
      "Requirement already satisfied: requests in c:\\users\\indhrna\\appdata\\local\\programs\\python\\python37\\lib\\site-packages (from fastai) (2.28.2)\n",
      "Requirement already satisfied: pandas in c:\\users\\indhrna\\appdata\\local\\programs\\python\\python37\\lib\\site-packages (from fastai) (1.3.5)\n",
      "Requirement already satisfied: fastcore<1.6,>=1.5.29 in c:\\users\\indhrna\\appdata\\local\\programs\\python\\python37\\lib\\site-packages (from fastai) (1.5.32)\n",
      "Requirement already satisfied: torchvision>=0.8.2 in c:\\users\\indhrna\\appdata\\local\\programs\\python\\python37\\lib\\site-packages (from fastai) (0.14.1)\n",
      "Requirement already satisfied: fastprogress>=0.2.4 in c:\\users\\indhrna\\appdata\\local\\programs\\python\\python37\\lib\\site-packages (from fastai) (1.0.3)\n",
      "Requirement already satisfied: spacy<4 in c:\\users\\indhrna\\appdata\\local\\programs\\python\\python37\\lib\\site-packages (from fastai) (3.7.4)\n",
      "Requirement already satisfied: torch<2.1,>=1.7 in c:\\users\\indhrna\\appdata\\local\\programs\\python\\python37\\lib\\site-packages (from fastai) (1.13.1)\n",
      "Requirement already satisfied: matplotlib in c:\\users\\indhrna\\appdata\\local\\programs\\python\\python37\\lib\\site-packages (from fastai) (3.5.3)\n",
      "Requirement already satisfied: scikit-learn in c:\\users\\indhrna\\appdata\\roaming\\python\\python37\\site-packages (from fastai) (1.0.2)\n",
      "Requirement already satisfied: pillow>6.0.0 in c:\\users\\indhrna\\appdata\\local\\programs\\python\\python37\\lib\\site-packages (from fastai) (9.4.0)\n",
      "Requirement already satisfied: packaging in c:\\users\\indhrna\\appdata\\roaming\\python\\python37\\site-packages (from fastai) (23.0)\n",
      "Requirement already satisfied: fastdownload<2,>=0.0.5 in c:\\users\\indhrna\\appdata\\local\\programs\\python\\python37\\lib\\site-packages (from fastai) (0.0.7)\n",
      "Requirement already satisfied: pip in c:\\users\\indhrna\\appdata\\local\\programs\\python\\python37\\lib\\site-packages (from fastai) (23.0)\n",
      "Requirement already satisfied: scipy in c:\\users\\indhrna\\appdata\\roaming\\python\\python37\\site-packages (from fastai) (1.7.3)\n",
      "Requirement already satisfied: pyyaml in c:\\users\\indhrna\\appdata\\local\\programs\\python\\python37\\lib\\site-packages (from fastai) (6.0)\n",
      "Requirement already satisfied: preshed<3.1.0,>=3.0.2 in c:\\users\\indhrna\\appdata\\local\\programs\\python\\python37\\lib\\site-packages (from spacy<4->fastai) (3.0.9)\n",
      "Requirement already satisfied: wasabi<1.2.0,>=0.9.1 in c:\\users\\indhrna\\appdata\\local\\programs\\python\\python37\\lib\\site-packages (from spacy<4->fastai) (1.1.2)\n",
      "Requirement already satisfied: jinja2 in c:\\users\\indhrna\\appdata\\local\\programs\\python\\python37\\lib\\site-packages (from spacy<4->fastai) (3.1.2)\n",
      "Requirement already satisfied: catalogue<2.1.0,>=2.0.6 in c:\\users\\indhrna\\appdata\\local\\programs\\python\\python37\\lib\\site-packages (from spacy<4->fastai) (2.0.10)\n",
      "Requirement already satisfied: typing-extensions<4.5.0,>=3.7.4.1 in c:\\users\\indhrna\\appdata\\local\\programs\\python\\python37\\lib\\site-packages (from spacy<4->fastai) (4.4.0)\n",
      "Requirement already satisfied: spacy-legacy<3.1.0,>=3.0.11 in c:\\users\\indhrna\\appdata\\local\\programs\\python\\python37\\lib\\site-packages (from spacy<4->fastai) (3.0.12)\n",
      "Requirement already satisfied: weasel<0.4.0,>=0.1.0 in c:\\users\\indhrna\\appdata\\local\\programs\\python\\python37\\lib\\site-packages (from spacy<4->fastai) (0.3.4)\n",
      "Requirement already satisfied: thinc<8.3.0,>=8.2.2 in c:\\users\\indhrna\\appdata\\local\\programs\\python\\python37\\lib\\site-packages (from spacy<4->fastai) (8.2.3)\n",
      "Requirement already satisfied: tqdm<5.0.0,>=4.38.0 in c:\\users\\indhrna\\appdata\\local\\programs\\python\\python37\\lib\\site-packages (from spacy<4->fastai) (4.65.0)\n",
      "Requirement already satisfied: numpy>=1.15.0 in c:\\users\\indhrna\\appdata\\local\\programs\\python\\python37\\lib\\site-packages (from spacy<4->fastai) (1.21.6)\n",
      "Requirement already satisfied: typer<0.10.0,>=0.3.0 in c:\\users\\indhrna\\appdata\\local\\programs\\python\\python37\\lib\\site-packages (from spacy<4->fastai) (0.9.4)\n",
      "Requirement already satisfied: cymem<2.1.0,>=2.0.2 in c:\\users\\indhrna\\appdata\\local\\programs\\python\\python37\\lib\\site-packages (from spacy<4->fastai) (2.0.8)\n",
      "Requirement already satisfied: langcodes<4.0.0,>=3.2.0 in c:\\users\\indhrna\\appdata\\local\\programs\\python\\python37\\lib\\site-packages (from spacy<4->fastai) (3.3.0)\n",
      "Requirement already satisfied: smart-open<7.0.0,>=5.2.1 in c:\\users\\indhrna\\appdata\\local\\programs\\python\\python37\\lib\\site-packages (from spacy<4->fastai) (6.4.0)\n",
      "Requirement already satisfied: spacy-loggers<2.0.0,>=1.0.0 in c:\\users\\indhrna\\appdata\\local\\programs\\python\\python37\\lib\\site-packages (from spacy<4->fastai) (1.0.5)\n",
      "Requirement already satisfied: murmurhash<1.1.0,>=0.28.0 in c:\\users\\indhrna\\appdata\\local\\programs\\python\\python37\\lib\\site-packages (from spacy<4->fastai) (1.0.10)\n",
      "Requirement already satisfied: setuptools in c:\\users\\indhrna\\appdata\\local\\programs\\python\\python37\\lib\\site-packages (from spacy<4->fastai) (67.5.1)\n",
      "Requirement already satisfied: srsly<3.0.0,>=2.4.3 in c:\\users\\indhrna\\appdata\\local\\programs\\python\\python37\\lib\\site-packages (from spacy<4->fastai) (2.4.8)\n",
      "Requirement already satisfied: pydantic!=1.8,!=1.8.1,<3.0.0,>=1.7.4 in c:\\users\\indhrna\\appdata\\local\\programs\\python\\python37\\lib\\site-packages (from spacy<4->fastai) (1.10.14)\n",
      "Requirement already satisfied: idna<4,>=2.5 in c:\\users\\indhrna\\appdata\\local\\programs\\python\\python37\\lib\\site-packages (from requests->fastai) (3.4)\n",
      "Requirement already satisfied: certifi>=2017.4.17 in c:\\users\\indhrna\\appdata\\local\\programs\\python\\python37\\lib\\site-packages (from requests->fastai) (2022.12.7)\n",
      "Requirement already satisfied: charset-normalizer<4,>=2 in c:\\users\\indhrna\\appdata\\local\\programs\\python\\python37\\lib\\site-packages (from requests->fastai) (3.1.0)\n",
      "Requirement already satisfied: urllib3<1.27,>=1.21.1 in c:\\users\\indhrna\\appdata\\local\\programs\\python\\python37\\lib\\site-packages (from requests->fastai) (1.26.15)\n",
      "Requirement already satisfied: kiwisolver>=1.0.1 in c:\\users\\indhrna\\appdata\\local\\programs\\python\\python37\\lib\\site-packages (from matplotlib->fastai) (1.4.4)\n",
      "Requirement already satisfied: cycler>=0.10 in c:\\users\\indhrna\\appdata\\local\\programs\\python\\python37\\lib\\site-packages (from matplotlib->fastai) (0.11.0)\n",
      "Requirement already satisfied: python-dateutil>=2.7 in c:\\users\\indhrna\\appdata\\local\\programs\\python\\python37\\lib\\site-packages (from matplotlib->fastai) (2.8.2)\n",
      "Requirement already satisfied: pyparsing>=2.2.1 in c:\\users\\indhrna\\appdata\\local\\programs\\python\\python37\\lib\\site-packages (from matplotlib->fastai) (3.0.9)\n",
      "Requirement already satisfied: fonttools>=4.22.0 in c:\\users\\indhrna\\appdata\\local\\programs\\python\\python37\\lib\\site-packages (from matplotlib->fastai) (4.38.0)\n",
      "Requirement already satisfied: pytz>=2017.3 in c:\\users\\indhrna\\appdata\\local\\programs\\python\\python37\\lib\\site-packages (from pandas->fastai) (2022.7.1)\n",
      "Requirement already satisfied: threadpoolctl>=2.0.0 in c:\\users\\indhrna\\appdata\\roaming\\python\\python37\\site-packages (from scikit-learn->fastai) (3.1.0)\n",
      "Requirement already satisfied: joblib>=0.11 in c:\\users\\indhrna\\appdata\\roaming\\python\\python37\\site-packages (from scikit-learn->fastai) (1.2.0)\n",
      "Requirement already satisfied: zipp>=0.5 in c:\\users\\indhrna\\appdata\\local\\programs\\python\\python37\\lib\\site-packages (from catalogue<2.1.0,>=2.0.6->spacy<4->fastai) (3.12.1)\n",
      "Requirement already satisfied: six>=1.5 in c:\\users\\indhrna\\appdata\\local\\programs\\python\\python37\\lib\\site-packages (from python-dateutil>=2.7->matplotlib->fastai) (1.16.0)\n",
      "Requirement already satisfied: blis<0.8.0,>=0.7.8 in c:\\users\\indhrna\\appdata\\local\\programs\\python\\python37\\lib\\site-packages (from thinc<8.3.0,>=8.2.2->spacy<4->fastai) (0.7.11)\n",
      "Requirement already satisfied: confection<1.0.0,>=0.0.1 in c:\\users\\indhrna\\appdata\\local\\programs\\python\\python37\\lib\\site-packages (from thinc<8.3.0,>=8.2.2->spacy<4->fastai) (0.1.4)\n",
      "Requirement already satisfied: colorama in c:\\users\\indhrna\\appdata\\local\\programs\\python\\python37\\lib\\site-packages (from tqdm<5.0.0,>=4.38.0->spacy<4->fastai) (0.4.6)\n",
      "Requirement already satisfied: click<9.0.0,>=7.1.1 in c:\\users\\indhrna\\appdata\\local\\programs\\python\\python37\\lib\\site-packages (from typer<0.10.0,>=0.3.0->spacy<4->fastai) (8.1.3)\n",
      "Requirement already satisfied: cloudpathlib<0.17.0,>=0.7.0 in c:\\users\\indhrna\\appdata\\local\\programs\\python\\python37\\lib\\site-packages (from weasel<0.4.0,>=0.1.0->spacy<4->fastai) (0.16.0)\n",
      "Requirement already satisfied: MarkupSafe>=2.0 in c:\\users\\indhrna\\appdata\\local\\programs\\python\\python37\\lib\\site-packages (from jinja2->spacy<4->fastai) (2.1.2)\n",
      "Requirement already satisfied: importlib-metadata in c:\\users\\indhrna\\appdata\\local\\programs\\python\\python37\\lib\\site-packages (from click<9.0.0,>=7.1.1->typer<0.10.0,>=0.3.0->spacy<4->fastai) (6.0.0)\n"
     ]
    },
    {
     "name": "stderr",
     "output_type": "stream",
     "text": [
      "\n",
      "[notice] A new release of pip is available: 23.0 -> 24.0\n",
      "[notice] To update, run: python.exe -m pip install --upgrade pip\n"
     ]
    }
   ],
   "source": [
    "! pip install fastai"
   ]
  },
  {
   "cell_type": "code",
   "execution_count": 2,
   "metadata": {},
   "outputs": [
    {
     "name": "stdout",
     "output_type": "stream",
     "text": [
      "Requirement already satisfied: pandas in c:\\users\\indhrna\\appdata\\local\\programs\\python\\python37\\lib\\site-packages (1.3.5)\n",
      "Requirement already satisfied: pytz>=2017.3 in c:\\users\\indhrna\\appdata\\local\\programs\\python\\python37\\lib\\site-packages (from pandas) (2022.7.1)\n",
      "Requirement already satisfied: numpy>=1.17.3 in c:\\users\\indhrna\\appdata\\local\\programs\\python\\python37\\lib\\site-packages (from pandas) (1.21.6)\n",
      "Requirement already satisfied: python-dateutil>=2.7.3 in c:\\users\\indhrna\\appdata\\local\\programs\\python\\python37\\lib\\site-packages (from pandas) (2.8.2)\n",
      "Requirement already satisfied: six>=1.5 in c:\\users\\indhrna\\appdata\\local\\programs\\python\\python37\\lib\\site-packages (from python-dateutil>=2.7.3->pandas) (1.16.0)\n"
     ]
    },
    {
     "name": "stderr",
     "output_type": "stream",
     "text": [
      "\n",
      "[notice] A new release of pip is available: 23.0 -> 24.0\n",
      "[notice] To update, run: python.exe -m pip install --upgrade pip\n"
     ]
    }
   ],
   "source": [
    "!pip install pandas"
   ]
  },
  {
   "cell_type": "code",
   "execution_count": 3,
   "metadata": {},
   "outputs": [],
   "source": [
    "import pandas as pd"
   ]
  },
  {
   "cell_type": "code",
   "execution_count": null,
   "metadata": {},
   "outputs": [],
   "source": []
  }
 ],
 "metadata": {
  "kernelspec": {
   "display_name": "Python 3",
   "language": "python",
   "name": "python3"
  },
  "language_info": {
   "codemirror_mode": {
    "name": "ipython",
    "version": 3
   },
   "file_extension": ".py",
   "mimetype": "text/x-python",
   "name": "python",
   "nbconvert_exporter": "python",
   "pygments_lexer": "ipython3",
   "version": "3.7.1"
  }
 },
 "nbformat": 4,
 "nbformat_minor": 2
}
