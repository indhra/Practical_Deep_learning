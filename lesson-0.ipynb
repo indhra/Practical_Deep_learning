{
 "cells": [
  {
   "cell_type": "code",
   "execution_count": 1,
   "metadata": {},
   "outputs": [],
   "source": [
    "import pandas as pd"
   ]
  },
  {
   "cell_type": "code",
   "execution_count": 2,
   "metadata": {},
   "outputs": [
    {
     "name": "stdout",
     "output_type": "stream",
     "text": [
      "Collecting fastai\n",
      "  Downloading fastai-2.7.12-py3-none-any.whl (233 kB)\n",
      "     -------------------------------------- 233.1/233.1 kB 2.9 MB/s eta 0:00:00\n",
      "Requirement already satisfied: scikit-learn in c:\\users\\indhrna\\appdata\\roaming\\python\\python37\\site-packages (from fastai) (1.0.2)\n",
      "Collecting fastdownload<2,>=0.0.5\n",
      "  Downloading fastdownload-0.0.7-py3-none-any.whl (12 kB)\n",
      "Requirement already satisfied: requests in c:\\users\\indhrna\\appdata\\local\\programs\\python\\python37\\lib\\site-packages (from fastai) (2.28.2)\n",
      "Requirement already satisfied: pillow>6.0.0 in c:\\users\\indhrna\\appdata\\local\\programs\\python\\python37\\lib\\site-packages (from fastai) (9.4.0)\n",
      "Collecting torchvision>=0.8.2\n",
      "  Downloading torchvision-0.14.1-cp37-cp37m-win_amd64.whl (1.1 MB)\n",
      "     ---------------------------------------- 1.1/1.1 MB 9.8 MB/s eta 0:00:00\n",
      "Requirement already satisfied: pyyaml in c:\\users\\indhrna\\appdata\\local\\programs\\python\\python37\\lib\\site-packages (from fastai) (6.0)\n",
      "Requirement already satisfied: pandas in c:\\users\\indhrna\\appdata\\local\\programs\\python\\python37\\lib\\site-packages (from fastai) (1.3.5)\n",
      "Requirement already satisfied: packaging in c:\\users\\indhrna\\appdata\\roaming\\python\\python37\\site-packages (from fastai) (23.0)\n",
      "Requirement already satisfied: torch<2.1,>=1.7 in c:\\users\\indhrna\\appdata\\local\\programs\\python\\python37\\lib\\site-packages (from fastai) (1.13.1)\n",
      "Collecting fastprogress>=0.2.4\n",
      "  Downloading fastprogress-1.0.3-py3-none-any.whl (12 kB)\n",
      "Collecting fastcore<1.6,>=1.5.29\n",
      "  Downloading fastcore-1.5.32-py3-none-any.whl (67 kB)\n",
      "     ---------------------------------------- 67.7/67.7 kB 3.6 MB/s eta 0:00:00\n",
      "Requirement already satisfied: matplotlib in c:\\users\\indhrna\\appdata\\local\\programs\\python\\python37\\lib\\site-packages (from fastai) (3.5.3)\n",
      "Requirement already satisfied: pip in c:\\users\\indhrna\\appdata\\local\\programs\\python\\python37\\lib\\site-packages (from fastai) (23.0)\n",
      "Requirement already satisfied: scipy in c:\\users\\indhrna\\appdata\\roaming\\python\\python37\\site-packages (from fastai) (1.7.3)\n",
      "Collecting spacy<4\n",
      "  Downloading spacy-3.7.4-cp37-cp37m-win_amd64.whl (12.4 MB)\n",
      "     --------------------------------------- 12.4/12.4 MB 19.9 MB/s eta 0:00:00\n",
      "Requirement already satisfied: pydantic!=1.8,!=1.8.1,<3.0.0,>=1.7.4 in c:\\users\\indhrna\\appdata\\local\\programs\\python\\python37\\lib\\site-packages (from spacy<4->fastai) (1.10.14)\n",
      "Requirement already satisfied: numpy>=1.15.0 in c:\\users\\indhrna\\appdata\\local\\programs\\python\\python37\\lib\\site-packages (from spacy<4->fastai) (1.21.6)\n",
      "Collecting langcodes<4.0.0,>=3.2.0\n",
      "  Downloading langcodes-3.3.0-py3-none-any.whl (181 kB)\n",
      "     ---------------------------------------- 181.6/181.6 kB ? eta 0:00:00\n",
      "Requirement already satisfied: jinja2 in c:\\users\\indhrna\\appdata\\local\\programs\\python\\python37\\lib\\site-packages (from spacy<4->fastai) (3.1.2)\n",
      "Collecting wasabi<1.2.0,>=0.9.1\n",
      "  Downloading wasabi-1.1.2-py3-none-any.whl (27 kB)\n",
      "Collecting murmurhash<1.1.0,>=0.28.0\n",
      "  Downloading murmurhash-1.0.10-cp37-cp37m-win_amd64.whl (25 kB)\n",
      "Collecting typer<0.10.0,>=0.3.0\n",
      "  Downloading typer-0.9.4-py3-none-any.whl (45 kB)\n",
      "     ---------------------------------------- 46.0/46.0 kB 2.4 MB/s eta 0:00:00\n",
      "Collecting weasel<0.4.0,>=0.1.0\n",
      "  Downloading weasel-0.3.4-py3-none-any.whl (50 kB)\n",
      "     ---------------------------------------- 50.1/50.1 kB ? eta 0:00:00\n",
      "Collecting thinc<8.3.0,>=8.2.2\n",
      "  Downloading thinc-8.2.3-cp37-cp37m-win_amd64.whl (1.5 MB)\n",
      "     ---------------------------------------- 1.5/1.5 MB 19.1 MB/s eta 0:00:00\n",
      "Collecting catalogue<2.1.0,>=2.0.6\n",
      "  Downloading catalogue-2.0.10-py3-none-any.whl (17 kB)\n",
      "Requirement already satisfied: setuptools in c:\\users\\indhrna\\appdata\\local\\programs\\python\\python37\\lib\\site-packages (from spacy<4->fastai) (67.5.1)\n",
      "Collecting cymem<2.1.0,>=2.0.2\n",
      "  Downloading cymem-2.0.8-cp37-cp37m-win_amd64.whl (39 kB)\n",
      "Collecting spacy-loggers<2.0.0,>=1.0.0\n",
      "  Downloading spacy_loggers-1.0.5-py3-none-any.whl (22 kB)\n",
      "Collecting smart-open<7.0.0,>=5.2.1\n",
      "  Downloading smart_open-6.4.0-py3-none-any.whl (57 kB)\n",
      "     ---------------------------------------- 57.0/57.0 kB ? eta 0:00:00\n",
      "Collecting typing-extensions<4.5.0,>=3.7.4.1\n",
      "  Downloading typing_extensions-4.4.0-py3-none-any.whl (26 kB)\n",
      "Requirement already satisfied: tqdm<5.0.0,>=4.38.0 in c:\\users\\indhrna\\appdata\\local\\programs\\python\\python37\\lib\\site-packages (from spacy<4->fastai) (4.65.0)\n",
      "Collecting preshed<3.1.0,>=3.0.2\n",
      "  Downloading preshed-3.0.9-cp37-cp37m-win_amd64.whl (122 kB)\n",
      "     ---------------------------------------- 122.6/122.6 kB ? eta 0:00:00\n",
      "Collecting spacy-legacy<3.1.0,>=3.0.11\n",
      "  Downloading spacy_legacy-3.0.12-py2.py3-none-any.whl (29 kB)\n",
      "Collecting srsly<3.0.0,>=2.4.3\n",
      "  Downloading srsly-2.4.8-cp37-cp37m-win_amd64.whl (482 kB)\n",
      "     ------------------------------------- 482.7/482.7 kB 29.5 MB/s eta 0:00:00\n",
      "Requirement already satisfied: charset-normalizer<4,>=2 in c:\\users\\indhrna\\appdata\\local\\programs\\python\\python37\\lib\\site-packages (from requests->fastai) (3.1.0)\n",
      "Requirement already satisfied: certifi>=2017.4.17 in c:\\users\\indhrna\\appdata\\local\\programs\\python\\python37\\lib\\site-packages (from requests->fastai) (2022.12.7)\n",
      "Requirement already satisfied: idna<4,>=2.5 in c:\\users\\indhrna\\appdata\\local\\programs\\python\\python37\\lib\\site-packages (from requests->fastai) (3.4)\n",
      "Requirement already satisfied: urllib3<1.27,>=1.21.1 in c:\\users\\indhrna\\appdata\\local\\programs\\python\\python37\\lib\\site-packages (from requests->fastai) (1.26.15)\n",
      "Requirement already satisfied: python-dateutil>=2.7 in c:\\users\\indhrna\\appdata\\local\\programs\\python\\python37\\lib\\site-packages (from matplotlib->fastai) (2.8.2)\n",
      "Requirement already satisfied: kiwisolver>=1.0.1 in c:\\users\\indhrna\\appdata\\local\\programs\\python\\python37\\lib\\site-packages (from matplotlib->fastai) (1.4.4)\n",
      "Requirement already satisfied: cycler>=0.10 in c:\\users\\indhrna\\appdata\\local\\programs\\python\\python37\\lib\\site-packages (from matplotlib->fastai) (0.11.0)\n",
      "Requirement already satisfied: pyparsing>=2.2.1 in c:\\users\\indhrna\\appdata\\local\\programs\\python\\python37\\lib\\site-packages (from matplotlib->fastai) (3.0.9)\n",
      "Requirement already satisfied: fonttools>=4.22.0 in c:\\users\\indhrna\\appdata\\local\\programs\\python\\python37\\lib\\site-packages (from matplotlib->fastai) (4.38.0)\n",
      "Requirement already satisfied: pytz>=2017.3 in c:\\users\\indhrna\\appdata\\local\\programs\\python\\python37\\lib\\site-packages (from pandas->fastai) (2022.7.1)\n",
      "Requirement already satisfied: joblib>=0.11 in c:\\users\\indhrna\\appdata\\roaming\\python\\python37\\site-packages (from scikit-learn->fastai) (1.2.0)\n",
      "Requirement already satisfied: threadpoolctl>=2.0.0 in c:\\users\\indhrna\\appdata\\roaming\\python\\python37\\site-packages (from scikit-learn->fastai) (3.1.0)\n",
      "Requirement already satisfied: zipp>=0.5 in c:\\users\\indhrna\\appdata\\local\\programs\\python\\python37\\lib\\site-packages (from catalogue<2.1.0,>=2.0.6->spacy<4->fastai) (3.12.1)\n",
      "Requirement already satisfied: six>=1.5 in c:\\users\\indhrna\\appdata\\local\\programs\\python\\python37\\lib\\site-packages (from python-dateutil>=2.7->matplotlib->fastai) (1.16.0)\n",
      "Collecting blis<0.8.0,>=0.7.8\n",
      "  Downloading blis-0.7.11-cp37-cp37m-win_amd64.whl (6.6 MB)\n",
      "     ---------------------------------------- 6.6/6.6 MB 22.2 MB/s eta 0:00:00\n",
      "Collecting confection<1.0.0,>=0.0.1\n",
      "  Downloading confection-0.1.4-py3-none-any.whl (35 kB)\n",
      "Requirement already satisfied: colorama in c:\\users\\indhrna\\appdata\\local\\programs\\python\\python37\\lib\\site-packages (from tqdm<5.0.0,>=4.38.0->spacy<4->fastai) (0.4.6)\n",
      "Requirement already satisfied: click<9.0.0,>=7.1.1 in c:\\users\\indhrna\\appdata\\local\\programs\\python\\python37\\lib\\site-packages (from typer<0.10.0,>=0.3.0->spacy<4->fastai) (8.1.3)\n",
      "Collecting cloudpathlib<0.17.0,>=0.7.0\n",
      "  Downloading cloudpathlib-0.16.0-py3-none-any.whl (45 kB)\n",
      "     ---------------------------------------- 45.0/45.0 kB ? eta 0:00:00\n",
      "Requirement already satisfied: MarkupSafe>=2.0 in c:\\users\\indhrna\\appdata\\local\\programs\\python\\python37\\lib\\site-packages (from jinja2->spacy<4->fastai) (2.1.2)\n",
      "Requirement already satisfied: importlib-metadata in c:\\users\\indhrna\\appdata\\local\\programs\\python\\python37\\lib\\site-packages (from click<9.0.0,>=7.1.1->typer<0.10.0,>=0.3.0->spacy<4->fastai) (6.0.0)\n",
      "Installing collected packages: cymem, typing-extensions, spacy-loggers, spacy-legacy, smart-open, murmurhash, langcodes, fastprogress, fastcore, blis, wasabi, preshed, fastdownload, catalogue, torchvision, srsly, cloudpathlib, typer, confection, weasel, thinc, spacy, fastai\n",
      "  Attempting uninstall: typing-extensions\n",
      "    Found existing installation: typing_extensions 4.7.1\n",
      "    Uninstalling typing_extensions-4.7.1:\n",
      "      Successfully uninstalled typing_extensions-4.7.1\n",
      "Successfully installed blis-0.7.11 catalogue-2.0.10 cloudpathlib-0.16.0 confection-0.1.4 cymem-2.0.8 fastai-2.7.12 fastcore-1.5.32 fastdownload-0.0.7 fastprogress-1.0.3 langcodes-3.3.0 murmurhash-1.0.10 preshed-3.0.9 smart-open-6.4.0 spacy-3.7.4 spacy-legacy-3.0.12 spacy-loggers-1.0.5 srsly-2.4.8 thinc-8.2.3 torchvision-0.14.1 typer-0.9.4 typing-extensions-4.4.0 wasabi-1.1.2 weasel-0.3.4\n"
     ]
    },
    {
     "name": "stderr",
     "output_type": "stream",
     "text": [
      "ERROR: pip's dependency resolver does not currently take into account all the packages that are installed. This behaviour is the source of the following dependency conflicts.\n",
      "tensorflow-intel 2.11.0 requires tensorboard<2.12,>=2.11, but you have tensorboard 2.0.2 which is incompatible.\n",
      "tensorflow-intel 2.11.0 requires tensorflow-estimator<2.12,>=2.11.0, but you have tensorflow-estimator 2.0.1 which is incompatible.\n",
      "azure-core 1.30.0 requires typing-extensions>=4.6.0, but you have typing-extensions 4.4.0 which is incompatible.\n",
      "\n",
      "[notice] A new release of pip is available: 23.0 -> 24.0\n",
      "[notice] To update, run: python.exe -m pip install --upgrade pip\n"
     ]
    }
   ],
   "source": [
    "! pip install fastai"
   ]
  },
  {
   "cell_type": "code",
   "execution_count": null,
   "metadata": {},
   "outputs": [],
   "source": []
  }
 ],
 "metadata": {
  "kernelspec": {
   "display_name": "Python 3",
   "language": "python",
   "name": "python3"
  },
  "language_info": {
   "codemirror_mode": {
    "name": "ipython",
    "version": 3
   },
   "file_extension": ".py",
   "mimetype": "text/x-python",
   "name": "python",
   "nbconvert_exporter": "python",
   "pygments_lexer": "ipython3",
   "version": "3.7.1"
  }
 },
 "nbformat": 4,
 "nbformat_minor": 2
}
