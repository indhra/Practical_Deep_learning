{
 "cells": [
  {
   "cell_type": "code",
   "execution_count": 1,
   "metadata": {},
   "outputs": [],
   "source": [
    "## \\\\satpaeb51000155.inedc.corpintra.net\\Global_ATS_Data\\05.Electic_Vehicle_Data\\KFE\\02_Members\\13_Anil\\Axle_Failure_Prediction\n",
    "\n",
    "# !pip install pandas\n"
   ]
  },
  {
   "cell_type": "code",
   "execution_count": 2,
   "metadata": {},
   "outputs": [],
   "source": [
    "import pandas as pd \n",
    "import numpy as np\n",
    "import os \n",
    "import seaborn as sns\n",
    "import matplotlib.pyplot as plt\n",
    "from sklearn.model_selection import train_test_split\n",
    "from sklearn.preprocessing import MinMaxScaler"
   ]
  },
  {
   "cell_type": "code",
   "execution_count": 3,
   "metadata": {},
   "outputs": [],
   "source": [
    "import datetime"
   ]
  },
  {
   "cell_type": "code",
   "execution_count": 4,
   "metadata": {},
   "outputs": [
    {
     "ename": "FileNotFoundError",
     "evalue": "[Errno 2] No such file or directory: 'W:\\\\KFE\\\\02_Members\\\\08_Ganesh\\\\Lakshmi-NN\\\\Current\\\\Data_NotFailed_Cases\\\\216_Dec23_to_March23_20NotFailed.xlsx'",
     "output_type": "error",
     "traceback": [
      "\u001b[1;31m---------------------------------------------------------------------------\u001b[0m",
      "\u001b[1;31mFileNotFoundError\u001b[0m                         Traceback (most recent call last)",
      "\u001b[1;32m~\\AppData\\Local\\Temp\\ipykernel_16000\\803620823.py\u001b[0m in \u001b[0;36m<module>\u001b[1;34m\u001b[0m\n\u001b[1;32m----> 1\u001b[1;33m \u001b[0mdf\u001b[0m \u001b[1;33m=\u001b[0m \u001b[0mpd\u001b[0m\u001b[1;33m.\u001b[0m\u001b[0mread_excel\u001b[0m\u001b[1;33m(\u001b[0m\u001b[1;34mr\"W:\\KFE\\02_Members\\08_Ganesh\\Lakshmi-NN\\Current\\Data_NotFailed_Cases\\216_Dec23_to_March23_20NotFailed.xlsx\"\u001b[0m\u001b[1;33m)\u001b[0m\u001b[1;33m\u001b[0m\u001b[1;33m\u001b[0m\u001b[0m\n\u001b[0m",
      "\u001b[1;32mc:\\Users\\INDHRNA\\AppData\\Local\\Programs\\Python\\Python37\\lib\\site-packages\\pandas\\util\\_decorators.py\u001b[0m in \u001b[0;36mwrapper\u001b[1;34m(*args, **kwargs)\u001b[0m\n\u001b[0;32m    309\u001b[0m                     \u001b[0mstacklevel\u001b[0m\u001b[1;33m=\u001b[0m\u001b[0mstacklevel\u001b[0m\u001b[1;33m,\u001b[0m\u001b[1;33m\u001b[0m\u001b[1;33m\u001b[0m\u001b[0m\n\u001b[0;32m    310\u001b[0m                 )\n\u001b[1;32m--> 311\u001b[1;33m             \u001b[1;32mreturn\u001b[0m \u001b[0mfunc\u001b[0m\u001b[1;33m(\u001b[0m\u001b[1;33m*\u001b[0m\u001b[0margs\u001b[0m\u001b[1;33m,\u001b[0m \u001b[1;33m**\u001b[0m\u001b[0mkwargs\u001b[0m\u001b[1;33m)\u001b[0m\u001b[1;33m\u001b[0m\u001b[1;33m\u001b[0m\u001b[0m\n\u001b[0m\u001b[0;32m    312\u001b[0m \u001b[1;33m\u001b[0m\u001b[0m\n\u001b[0;32m    313\u001b[0m         \u001b[1;32mreturn\u001b[0m \u001b[0mwrapper\u001b[0m\u001b[1;33m\u001b[0m\u001b[1;33m\u001b[0m\u001b[0m\n",
      "\u001b[1;32mc:\\Users\\INDHRNA\\AppData\\Local\\Programs\\Python\\Python37\\lib\\site-packages\\pandas\\io\\excel\\_base.py\u001b[0m in \u001b[0;36mread_excel\u001b[1;34m(io, sheet_name, header, names, index_col, usecols, squeeze, dtype, engine, converters, true_values, false_values, skiprows, nrows, na_values, keep_default_na, na_filter, verbose, parse_dates, date_parser, thousands, comment, skipfooter, convert_float, mangle_dupe_cols, storage_options)\u001b[0m\n\u001b[0;32m    362\u001b[0m     \u001b[1;32mif\u001b[0m \u001b[1;32mnot\u001b[0m \u001b[0misinstance\u001b[0m\u001b[1;33m(\u001b[0m\u001b[0mio\u001b[0m\u001b[1;33m,\u001b[0m \u001b[0mExcelFile\u001b[0m\u001b[1;33m)\u001b[0m\u001b[1;33m:\u001b[0m\u001b[1;33m\u001b[0m\u001b[1;33m\u001b[0m\u001b[0m\n\u001b[0;32m    363\u001b[0m         \u001b[0mshould_close\u001b[0m \u001b[1;33m=\u001b[0m \u001b[1;32mTrue\u001b[0m\u001b[1;33m\u001b[0m\u001b[1;33m\u001b[0m\u001b[0m\n\u001b[1;32m--> 364\u001b[1;33m         \u001b[0mio\u001b[0m \u001b[1;33m=\u001b[0m \u001b[0mExcelFile\u001b[0m\u001b[1;33m(\u001b[0m\u001b[0mio\u001b[0m\u001b[1;33m,\u001b[0m \u001b[0mstorage_options\u001b[0m\u001b[1;33m=\u001b[0m\u001b[0mstorage_options\u001b[0m\u001b[1;33m,\u001b[0m \u001b[0mengine\u001b[0m\u001b[1;33m=\u001b[0m\u001b[0mengine\u001b[0m\u001b[1;33m)\u001b[0m\u001b[1;33m\u001b[0m\u001b[1;33m\u001b[0m\u001b[0m\n\u001b[0m\u001b[0;32m    365\u001b[0m     \u001b[1;32melif\u001b[0m \u001b[0mengine\u001b[0m \u001b[1;32mand\u001b[0m \u001b[0mengine\u001b[0m \u001b[1;33m!=\u001b[0m \u001b[0mio\u001b[0m\u001b[1;33m.\u001b[0m\u001b[0mengine\u001b[0m\u001b[1;33m:\u001b[0m\u001b[1;33m\u001b[0m\u001b[1;33m\u001b[0m\u001b[0m\n\u001b[0;32m    366\u001b[0m         raise ValueError(\n",
      "\u001b[1;32mc:\\Users\\INDHRNA\\AppData\\Local\\Programs\\Python\\Python37\\lib\\site-packages\\pandas\\io\\excel\\_base.py\u001b[0m in \u001b[0;36m__init__\u001b[1;34m(self, path_or_buffer, engine, storage_options)\u001b[0m\n\u001b[0;32m   1190\u001b[0m             \u001b[1;32melse\u001b[0m\u001b[1;33m:\u001b[0m\u001b[1;33m\u001b[0m\u001b[1;33m\u001b[0m\u001b[0m\n\u001b[0;32m   1191\u001b[0m                 ext = inspect_excel_format(\n\u001b[1;32m-> 1192\u001b[1;33m                     \u001b[0mcontent_or_path\u001b[0m\u001b[1;33m=\u001b[0m\u001b[0mpath_or_buffer\u001b[0m\u001b[1;33m,\u001b[0m \u001b[0mstorage_options\u001b[0m\u001b[1;33m=\u001b[0m\u001b[0mstorage_options\u001b[0m\u001b[1;33m\u001b[0m\u001b[1;33m\u001b[0m\u001b[0m\n\u001b[0m\u001b[0;32m   1193\u001b[0m                 )\n\u001b[0;32m   1194\u001b[0m                 \u001b[1;32mif\u001b[0m \u001b[0mext\u001b[0m \u001b[1;32mis\u001b[0m \u001b[1;32mNone\u001b[0m\u001b[1;33m:\u001b[0m\u001b[1;33m\u001b[0m\u001b[1;33m\u001b[0m\u001b[0m\n",
      "\u001b[1;32mc:\\Users\\INDHRNA\\AppData\\Local\\Programs\\Python\\Python37\\lib\\site-packages\\pandas\\io\\excel\\_base.py\u001b[0m in \u001b[0;36minspect_excel_format\u001b[1;34m(content_or_path, storage_options)\u001b[0m\n\u001b[0;32m   1069\u001b[0m \u001b[1;33m\u001b[0m\u001b[0m\n\u001b[0;32m   1070\u001b[0m     with get_handle(\n\u001b[1;32m-> 1071\u001b[1;33m         \u001b[0mcontent_or_path\u001b[0m\u001b[1;33m,\u001b[0m \u001b[1;34m\"rb\"\u001b[0m\u001b[1;33m,\u001b[0m \u001b[0mstorage_options\u001b[0m\u001b[1;33m=\u001b[0m\u001b[0mstorage_options\u001b[0m\u001b[1;33m,\u001b[0m \u001b[0mis_text\u001b[0m\u001b[1;33m=\u001b[0m\u001b[1;32mFalse\u001b[0m\u001b[1;33m\u001b[0m\u001b[1;33m\u001b[0m\u001b[0m\n\u001b[0m\u001b[0;32m   1072\u001b[0m     ) as handle:\n\u001b[0;32m   1073\u001b[0m         \u001b[0mstream\u001b[0m \u001b[1;33m=\u001b[0m \u001b[0mhandle\u001b[0m\u001b[1;33m.\u001b[0m\u001b[0mhandle\u001b[0m\u001b[1;33m\u001b[0m\u001b[1;33m\u001b[0m\u001b[0m\n",
      "\u001b[1;32mc:\\Users\\INDHRNA\\AppData\\Local\\Programs\\Python\\Python37\\lib\\site-packages\\pandas\\io\\common.py\u001b[0m in \u001b[0;36mget_handle\u001b[1;34m(path_or_buf, mode, encoding, compression, memory_map, is_text, errors, storage_options)\u001b[0m\n\u001b[0;32m    709\u001b[0m         \u001b[1;32melse\u001b[0m\u001b[1;33m:\u001b[0m\u001b[1;33m\u001b[0m\u001b[1;33m\u001b[0m\u001b[0m\n\u001b[0;32m    710\u001b[0m             \u001b[1;31m# Binary mode\u001b[0m\u001b[1;33m\u001b[0m\u001b[1;33m\u001b[0m\u001b[1;33m\u001b[0m\u001b[0m\n\u001b[1;32m--> 711\u001b[1;33m             \u001b[0mhandle\u001b[0m \u001b[1;33m=\u001b[0m \u001b[0mopen\u001b[0m\u001b[1;33m(\u001b[0m\u001b[0mhandle\u001b[0m\u001b[1;33m,\u001b[0m \u001b[0mioargs\u001b[0m\u001b[1;33m.\u001b[0m\u001b[0mmode\u001b[0m\u001b[1;33m)\u001b[0m\u001b[1;33m\u001b[0m\u001b[1;33m\u001b[0m\u001b[0m\n\u001b[0m\u001b[0;32m    712\u001b[0m         \u001b[0mhandles\u001b[0m\u001b[1;33m.\u001b[0m\u001b[0mappend\u001b[0m\u001b[1;33m(\u001b[0m\u001b[0mhandle\u001b[0m\u001b[1;33m)\u001b[0m\u001b[1;33m\u001b[0m\u001b[1;33m\u001b[0m\u001b[0m\n\u001b[0;32m    713\u001b[0m \u001b[1;33m\u001b[0m\u001b[0m\n",
      "\u001b[1;31mFileNotFoundError\u001b[0m: [Errno 2] No such file or directory: 'W:\\\\KFE\\\\02_Members\\\\08_Ganesh\\\\Lakshmi-NN\\\\Current\\\\Data_NotFailed_Cases\\\\216_Dec23_to_March23_20NotFailed.xlsx'"
     ]
    }
   ],
   "source": [
    "df = pd.read_excel(r\"W:\\KFE\\02_Members\\08_Ganesh\\Lakshmi-NN\\Current\\Data_NotFailed_Cases\\216_Dec23_to_March23_20NotFailed.xlsx\")\n"
   ]
  },
  {
   "cell_type": "code",
   "execution_count": null,
   "metadata": {},
   "outputs": [],
   "source": [
    "df.head()"
   ]
  },
  {
   "cell_type": "code",
   "execution_count": null,
   "metadata": {},
   "outputs": [],
   "source": [
    "df.columns"
   ]
  },
  {
   "cell_type": "code",
   "execution_count": null,
   "metadata": {},
   "outputs": [],
   "source": [
    "cols = df.columns\n",
    "df = df[(df['BM03_IsoRes_Cval']<65535)&(df['EMD1_ACT_MotorTemperature']<150)&(df['Ax2RiFixBearTemp']<110)&(df['EMD3_ACT_MotorTemperature']<110)]\n",
    "df[cols].max()\n",
    "df.set_index('t',inplace=True)"
   ]
  },
  {
   "cell_type": "code",
   "execution_count": null,
   "metadata": {},
   "outputs": [],
   "source": [
    "df.drop(columns=['Date-Time','EMD1_ACT_InverterState',\n",
    " 'EMD2_ACT_InverterState',\n",
    " 'EMD3_ACT_InverterState',\n",
    " 'EMD4_ACT_InverterState'],inplace=True)\n",
    "cols = df.columns"
   ]
  },
  {
   "cell_type": "code",
   "execution_count": null,
   "metadata": {},
   "outputs": [],
   "source": [
    "df['BM03_IsoRes_Cval'].max()"
   ]
  },
  {
   "cell_type": "code",
   "execution_count": null,
   "metadata": {},
   "outputs": [],
   "source": []
  },
  {
   "cell_type": "code",
   "execution_count": null,
   "metadata": {},
   "outputs": [],
   "source": []
  },
  {
   "cell_type": "code",
   "execution_count": null,
   "metadata": {},
   "outputs": [],
   "source": []
  },
  {
   "cell_type": "code",
   "execution_count": null,
   "metadata": {},
   "outputs": [],
   "source": [
    "df2 = pd.read_excel(r\"W:\\KFE\\02_Members\\08_Ganesh\\Lakshmi-NN\\Current\\Data_FailedCases\\216_March23_to_June23_20FailedM3.xlsx\")"
   ]
  },
  {
   "cell_type": "code",
   "execution_count": null,
   "metadata": {},
   "outputs": [],
   "source": [
    "\n",
    "df2 = df2[(df2['BM03_IsoRes_Cval']<65535)&(df2['EMD1_ACT_MotorTemperature']<150)&(df2['Ax2LeFixBearTemp']<110)&(df2['EMD3_ACT_MotorTemperature']<110)]\n",
    "df2[cols].max()\n",
    "df2.set_index('t',inplace=True)"
   ]
  },
  {
   "cell_type": "code",
   "execution_count": null,
   "metadata": {},
   "outputs": [],
   "source": []
  },
  {
   "cell_type": "code",
   "execution_count": null,
   "metadata": {},
   "outputs": [],
   "source": []
  },
  {
   "cell_type": "code",
   "execution_count": null,
   "metadata": {},
   "outputs": [],
   "source": [
    "df3 = df2[df2['Date-Time']<=datetime.datetime.strptime(\"2020-05-31\",\"%Y-%m-%d\")]"
   ]
  },
  {
   "cell_type": "code",
   "execution_count": null,
   "metadata": {},
   "outputs": [],
   "source": []
  },
  {
   "cell_type": "code",
   "execution_count": null,
   "metadata": {},
   "outputs": [],
   "source": [
    "df5 = df2[df2['Date-Time']>datetime.datetime.strptime(\"2020-05-31\",\"%Y-%m-%d\")]"
   ]
  },
  {
   "cell_type": "code",
   "execution_count": null,
   "metadata": {},
   "outputs": [],
   "source": [
    "df6 = df5.copy()"
   ]
  },
  {
   "cell_type": "code",
   "execution_count": null,
   "metadata": {},
   "outputs": [],
   "source": [
    "df5.drop(columns=['Date-Time'],inplace=True)"
   ]
  },
  {
   "cell_type": "code",
   "execution_count": null,
   "metadata": {},
   "outputs": [],
   "source": []
  },
  {
   "cell_type": "code",
   "execution_count": null,
   "metadata": {},
   "outputs": [],
   "source": []
  },
  {
   "cell_type": "code",
   "execution_count": null,
   "metadata": {},
   "outputs": [],
   "source": [
    "len(df5.columns)"
   ]
  },
  {
   "cell_type": "code",
   "execution_count": null,
   "metadata": {},
   "outputs": [],
   "source": [
    "X_train, X_test, = df,df5\n",
    "scaler = MinMaxScaler()\n",
    "\n",
    "X_train = pd.DataFrame(scaler.fit_transform(X_train), \n",
    "                              columns=X_train.columns, \n",
    "                              index=X_train.index)\n",
    "X_test = pd.DataFrame(scaler.fit_transform(X_test), \n",
    "                              columns=X_test.columns, \n",
    "                              index=X_test.index)"
   ]
  },
  {
   "cell_type": "code",
   "execution_count": null,
   "metadata": {},
   "outputs": [],
   "source": [
    "X_train.columns "
   ]
  },
  {
   "cell_type": "code",
   "execution_count": null,
   "metadata": {},
   "outputs": [],
   "source": [
    "# import tensorflow as tf\n",
    "from tensorflow.keras.models import Sequential\n",
    "from tensorflow.keras.layers import Dense, Activation,Dropout\n",
    "from tensorflow.keras import regularizers"
   ]
  },
  {
   "cell_type": "code",
   "execution_count": null,
   "metadata": {},
   "outputs": [],
   "source": []
  },
  {
   "cell_type": "code",
   "execution_count": null,
   "metadata": {},
   "outputs": [],
   "source": [
    "act_func = 'relu'\n",
    "\n",
    "# Input layer:\n",
    "model=Sequential()\n",
    "# First hidden layer, connected to input vector X. \n",
    "model.add(Dense(10,activation=act_func,\n",
    "                kernel_initializer='glorot_uniform',\n",
    "                kernel_regularizer=regularizers.l2(0.0),\n",
    "                input_shape=(X_train.shape[1],)\n",
    "               )\n",
    "         )\n",
    "\n",
    "model.add(Dense(2,activation=act_func,\n",
    "                kernel_initializer='glorot_uniform'))\n",
    "\n",
    "model.add(Dense(10,activation=act_func,\n",
    "                kernel_initializer='glorot_uniform'))\n",
    "\n",
    "model.add(Dense(X_train.shape[1],\n",
    "                kernel_initializer='glorot_uniform'))\n",
    "\n",
    "model.compile(loss='mse',optimizer='adam')\n",
    "\n",
    "# Train model for 100 epochs, batch size of 10: \n",
    "NUM_EPOCHS=100\n",
    "BATCH_SIZE=10"
   ]
  },
  {
   "cell_type": "code",
   "execution_count": null,
   "metadata": {},
   "outputs": [],
   "source": [
    "history=model.fit(np.array(X_train),np.array(X_train),\n",
    "                  batch_size=BATCH_SIZE, \n",
    "                  epochs=NUM_EPOCHS,\n",
    "                  validation_split=0.05,\n",
    "                  verbose = 1)"
   ]
  },
  {
   "cell_type": "code",
   "execution_count": null,
   "metadata": {},
   "outputs": [],
   "source": [
    "plt.plot(history.history['loss'],\n",
    "         'b',\n",
    "         label='Training loss')\n",
    "plt.plot(history.history['val_loss'],\n",
    "         'r',\n",
    "         label='Validation loss')\n",
    "plt.legend(loc='upper right')\n",
    "plt.xlabel('Epochs')\n",
    "plt.ylabel('Loss, [mse]')\n",
    "plt.show()"
   ]
  },
  {
   "cell_type": "code",
   "execution_count": null,
   "metadata": {},
   "outputs": [],
   "source": []
  },
  {
   "cell_type": "markdown",
   "metadata": {},
   "source": [
    "# ZZ0216 Failed in June 23 and Model predicts that in June 1st"
   ]
  },
  {
   "cell_type": "code",
   "execution_count": null,
   "metadata": {},
   "outputs": [],
   "source": [
    "X_pred = model.predict(np.array(X_train))\n",
    "X_pred = pd.DataFrame(X_pred, \n",
    "                      columns=X_train.columns)\n",
    "X_pred.index = X_train.index\n",
    "\n",
    "base = pd.DataFrame(index=X_train.index)\n",
    "base['Loss_mae'] = np.mean(np.abs(X_pred-X_train), axis = 1)\n",
    "plt.figure()\n",
    "sns.distplot(base['Loss_mae'],\n",
    "             bins = 10, \n",
    "             kde= True,\n",
    "            color = 'blue');\n"
   ]
  },
  {
   "cell_type": "code",
   "execution_count": null,
   "metadata": {},
   "outputs": [],
   "source": [
    "base['Loss_mae'].mean()+1.96*base['Loss_mae'].std()"
   ]
  },
  {
   "cell_type": "code",
   "execution_count": null,
   "metadata": {},
   "outputs": [],
   "source": [
    "X_pred = model.predict(np.array(X_test))\n",
    "X_pred = pd.DataFrame(X_pred, \n",
    "                      columns=X_test.columns)\n",
    "X_pred.index = X_test.index\n",
    "\n",
    "scored = pd.DataFrame(index=X_test.index)\n",
    "scored['Loss_mae'] = np.mean(np.abs(X_pred-X_test), axis = 1)\n",
    "scored['Threshold'] = 0.28\n",
    "scored['Anomaly'] = scored['Loss_mae'] > scored['Threshold']"
   ]
  },
  {
   "cell_type": "code",
   "execution_count": null,
   "metadata": {},
   "outputs": [],
   "source": [
    "sns.distplot(scored['Loss_mae'],\n",
    "             bins = 10, \n",
    "             kde= True,\n",
    "            color = 'blue');"
   ]
  },
  {
   "cell_type": "code",
   "execution_count": null,
   "metadata": {},
   "outputs": [],
   "source": [
    "scored['Loss_mae'].mean()+1.96*scored['Loss_mae'].std()"
   ]
  },
  {
   "cell_type": "code",
   "execution_count": null,
   "metadata": {},
   "outputs": [],
   "source": [
    "scored['Time'] = scored.index\n",
    "scored.head()"
   ]
  },
  {
   "cell_type": "code",
   "execution_count": null,
   "metadata": {},
   "outputs": [],
   "source": [
    "scored.drop(columns=['Time'],inplace=True)"
   ]
  },
  {
   "cell_type": "code",
   "execution_count": null,
   "metadata": {},
   "outputs": [],
   "source": []
  },
  {
   "cell_type": "code",
   "execution_count": null,
   "metadata": {},
   "outputs": [],
   "source": [
    "X_pred_train = model.predict(np.array(X_train))\n",
    "X_pred_train = pd.DataFrame(X_pred_train, \n",
    "                      columns=X_train.columns)\n",
    "X_pred_train.index = X_train.index\n",
    "\n",
    "scored_train = pd.DataFrame(index=X_train.index)\n",
    "scored_train['Loss_mae'] = np.mean(np.abs(X_pred_train-X_train), axis = 1)\n",
    "scored_train['Threshold'] = 0.24\n",
    "scored_train['Anomaly'] = scored_train['Loss_mae'] > scored_train['Threshold']\n",
    "scored = pd.concat([scored_train, scored])"
   ]
  },
  {
   "cell_type": "code",
   "execution_count": null,
   "metadata": {},
   "outputs": [],
   "source": [
    "#scored.plot(logy=True,  figsize = (10,6), color = ['blue','red'])"
   ]
  },
  {
   "cell_type": "code",
   "execution_count": null,
   "metadata": {},
   "outputs": [],
   "source": [
    "scored['Loss_mae'].max()"
   ]
  },
  {
   "cell_type": "code",
   "execution_count": null,
   "metadata": {},
   "outputs": [],
   "source": [
    "failure_time_start = scored[scored['Anomaly']==True].head().index.tolist()[0]-datetime.timedelta(hours=2)\n",
    "failure_time_end = scored[scored['Anomaly']==True].head().index.tolist()[0]+datetime.timedelta(hours=2)"
   ]
  },
  {
   "cell_type": "code",
   "execution_count": null,
   "metadata": {},
   "outputs": [],
   "source": []
  },
  {
   "cell_type": "code",
   "execution_count": null,
   "metadata": {},
   "outputs": [],
   "source": [
    "failed_data  = scored[(scored['Time']>=failure_time_start)&(scored['Time']<=failure_time_end)]"
   ]
  },
  {
   "cell_type": "code",
   "execution_count": null,
   "metadata": {},
   "outputs": [],
   "source": [
    "import seaborn as sns\n"
   ]
  },
  {
   "cell_type": "code",
   "execution_count": null,
   "metadata": {},
   "outputs": [],
   "source": [
    "\n",
    "ax = sns.lineplot(data=failed_data,x='Time',y='Loss_mae')\n",
    "ax.plot(failed_data['Threshold'],'red')\n",
    "\n"
   ]
  },
  {
   "cell_type": "code",
   "execution_count": null,
   "metadata": {},
   "outputs": [],
   "source": [
    "from plotly.subplots import make_subplots\n",
    "import plotly.graph_objects as go"
   ]
  },
  {
   "cell_type": "code",
   "execution_count": null,
   "metadata": {},
   "outputs": [],
   "source": [
    "fig = go.Figure()\n",
    "fig = make_subplots(rows=1, cols=1,subplot_titles=['e-Axle Failure Prediction'])\n",
    "\n",
    "fig.add_trace(\n",
    "    go.Scatter(\n",
    "            y=failed_data['Loss_mae'],\n",
    "            x=failed_data['Time'],\n",
    "            name='Loss_MAE',\n",
    "            ),row=1,col=1)\n",
    "fig.add_trace(go.Line( x=failed_data[\"Time\"], y=failed_data[\"Threshold\"],name='Threshold',line={'color': 'red'}))\n",
    "    \n",
    "fig.update_layout(autosize=False,width=1892,height=881,title={'text': \"ZZ0216_23rd_June\",\n",
    "                                    'y':.95,'x':0.5,'xanchor': 'center','yanchor': 'top'})\n",
    "\n",
    "fig.write_html(r\"C:\\Users\\PID6420\\Downloads\\Axle_Failure_Prediction\\ZZ0216_23rd_June.html\", auto_open=False)\n"
   ]
  },
  {
   "cell_type": "markdown",
   "metadata": {},
   "source": [
    "# Motor 3 Failed for ZZ0216 on January 4th Model Predicts that it on 8th Decemeber"
   ]
  },
  {
   "cell_type": "code",
   "execution_count": null,
   "metadata": {},
   "outputs": [],
   "source": [
    "\n",
    "dfNew = pd.read_excel(r\"W:\\KFE\\02_Members\\08_Ganesh\\Lakshmi-NN\\Current\\Data_FailedCases\\216_Oct4_to_Jan4_21FailedM3.xlsx\")"
   ]
  },
  {
   "cell_type": "code",
   "execution_count": null,
   "metadata": {},
   "outputs": [],
   "source": [
    "X_test1 = dfNew[dfNew['Date-Time']>=datetime.datetime.strptime(\"2020-12-04\",\"%Y-%m-%d\")]"
   ]
  },
  {
   "cell_type": "code",
   "execution_count": null,
   "metadata": {},
   "outputs": [],
   "source": [
    "X_test = X_test1.copy()\n",
    "X_test.drop(columns=['Date-Time','t'],inplace=True)"
   ]
  },
  {
   "cell_type": "code",
   "execution_count": null,
   "metadata": {},
   "outputs": [],
   "source": [
    "X_test.head()"
   ]
  },
  {
   "cell_type": "code",
   "execution_count": null,
   "metadata": {},
   "outputs": [],
   "source": [
    "X_test = pd.DataFrame(scaler.fit_transform(X_test), \n",
    "                              columns=X_test.columns, \n",
    "                              index=X_test.index)\n",
    "X_pred = model.predict(np.array(X_test))\n",
    "X_pred = pd.DataFrame(X_pred, \n",
    "                      columns=X_test.columns)\n",
    "X_pred.index = X_test.index\n",
    "\n",
    "scored = pd.DataFrame(index=X_test.index)\n",
    "scored['Loss_mae'] = np.mean(np.abs(X_pred-X_test), axis = 1)\n",
    "scored['Threshold'] = 0.275\n",
    "scored['Anomaly'] = scored['Loss_mae'] > scored['Threshold']"
   ]
  },
  {
   "cell_type": "code",
   "execution_count": null,
   "metadata": {},
   "outputs": [],
   "source": [
    "scored['Time'] = X_test1['Date-Time']"
   ]
  },
  {
   "cell_type": "code",
   "execution_count": null,
   "metadata": {},
   "outputs": [],
   "source": [
    "scored[scored['Anomaly']==True]['Time'].head()"
   ]
  },
  {
   "cell_type": "code",
   "execution_count": null,
   "metadata": {},
   "outputs": [],
   "source": [
    "scored['Loss_mae'].max()"
   ]
  },
  {
   "cell_type": "markdown",
   "metadata": {},
   "source": [
    "# ZZ0224 Failed on August Model Predicted on 8th July ."
   ]
  },
  {
   "cell_type": "code",
   "execution_count": null,
   "metadata": {},
   "outputs": [],
   "source": [
    "dfNew = pd.read_excel(r\"W:\\KFE\\02_Members\\08_Ganesh\\Lakshmi-NN\\Current\\Data_FailedCases\\224_May_to_AugFailedM3.xlsx\")"
   ]
  },
  {
   "cell_type": "code",
   "execution_count": null,
   "metadata": {},
   "outputs": [],
   "source": [
    "X_test1 = dfNew[dfNew['Date-Time']>=datetime.datetime.strptime(\"2020-07-01\",\"%Y-%m-%d\")]"
   ]
  },
  {
   "cell_type": "code",
   "execution_count": null,
   "metadata": {},
   "outputs": [],
   "source": [
    "X_test = X_test1.copy()\n",
    "X_test.drop(columns=['Date-Time','t'],inplace=True)"
   ]
  },
  {
   "cell_type": "code",
   "execution_count": null,
   "metadata": {},
   "outputs": [],
   "source": [
    "X_test = pd.DataFrame(scaler.fit_transform(X_test), \n",
    "                              columns=X_test.columns, \n",
    "                              index=X_test.index)\n",
    "X_pred = model.predict(np.array(X_test))\n",
    "X_pred = pd.DataFrame(X_pred, \n",
    "                      columns=X_test.columns)\n",
    "X_pred.index = X_test.index\n",
    "\n",
    "scored = pd.DataFrame(index=X_test.index)\n",
    "scored['Loss_mae'] = np.mean(np.abs(X_pred-X_test), axis = 1)\n",
    "scored['Threshold'] = 0.24\n",
    "scored['Anomaly'] = scored['Loss_mae'] > scored['Threshold']"
   ]
  },
  {
   "cell_type": "code",
   "execution_count": null,
   "metadata": {},
   "outputs": [],
   "source": [
    "scored['Time'] = X_test1['Date-Time']"
   ]
  },
  {
   "cell_type": "code",
   "execution_count": null,
   "metadata": {},
   "outputs": [],
   "source": [
    "len(scored[scored['Anomaly']==True]['Time'])"
   ]
  },
  {
   "cell_type": "code",
   "execution_count": null,
   "metadata": {},
   "outputs": [],
   "source": [
    "scored['Loss_mae'].max()"
   ]
  },
  {
   "cell_type": "markdown",
   "metadata": {},
   "source": [
    "#  ZZ0222: Good and Model : Good "
   ]
  },
  {
   "cell_type": "code",
   "execution_count": null,
   "metadata": {},
   "outputs": [],
   "source": [
    "dfNew = pd.read_excel(r\"W:\\KFE\\02_Members\\08_Ganesh\\Lakshmi-NN\\Current\\Data_NotFailed_Cases\\222_Jan13_to_April13_20NotFailed.xlsx\")"
   ]
  },
  {
   "cell_type": "code",
   "execution_count": null,
   "metadata": {},
   "outputs": [],
   "source": [
    "X_test = dfNew.copy()\n",
    "X_test.drop(columns=['Date-Time','t',],inplace=True)"
   ]
  },
  {
   "cell_type": "code",
   "execution_count": null,
   "metadata": {},
   "outputs": [],
   "source": [
    "X_test.drop(columns=['EMD1_ACT_InverterState',\n",
    " 'EMD2_ACT_InverterState',\n",
    " 'EMD3_ACT_InverterState',\n",
    " 'EMD4_ACT_InverterState'],inplace=True)"
   ]
  },
  {
   "cell_type": "code",
   "execution_count": null,
   "metadata": {},
   "outputs": [],
   "source": [
    "X_test = pd.DataFrame(scaler.fit_transform(X_test), \n",
    "                              columns=X_test.columns, \n",
    "                              index=X_test.index)"
   ]
  },
  {
   "cell_type": "code",
   "execution_count": null,
   "metadata": {},
   "outputs": [],
   "source": [
    "X_pred = model.predict(np.array(X_test))\n",
    "X_pred = pd.DataFrame(X_pred, \n",
    "                      columns=X_test.columns)\n",
    "X_pred.index = X_test.index\n",
    "\n",
    "scored = pd.DataFrame(index=X_test.index)\n",
    "scored['Loss_mae'] = np.mean(np.abs(X_pred-X_test), axis = 1)\n",
    "scored['Threshold'] = 0.275\n",
    "scored['Anomaly'] = scored['Loss_mae'] > scored['Threshold']"
   ]
  },
  {
   "cell_type": "code",
   "execution_count": null,
   "metadata": {},
   "outputs": [],
   "source": [
    "scored['Time'] = dfNew['Date-Time']"
   ]
  },
  {
   "cell_type": "code",
   "execution_count": null,
   "metadata": {},
   "outputs": [],
   "source": [
    "scored[scored['Anomaly']==True]['Time'].head()"
   ]
  },
  {
   "cell_type": "code",
   "execution_count": null,
   "metadata": {},
   "outputs": [],
   "source": [
    "scored['Loss_mae'].max()"
   ]
  },
  {
   "cell_type": "markdown",
   "metadata": {},
   "source": [
    "#  ZZ0221: Good and Model : bad "
   ]
  },
  {
   "cell_type": "code",
   "execution_count": null,
   "metadata": {},
   "outputs": [],
   "source": [
    "dfNew = pd.read_excel(r\"W:\\KFE\\02_Members\\08_Ganesh\\Lakshmi-NN\\Current\\Data_NotFailed_Cases\\221_Aug05_to_Nov5_19NotFailed.xlsx\")"
   ]
  },
  {
   "cell_type": "code",
   "execution_count": null,
   "metadata": {},
   "outputs": [],
   "source": [
    "X_test = dfNew.copy()\n",
    "X_test.drop(columns=['Date-Time','t',],inplace=True)"
   ]
  },
  {
   "cell_type": "code",
   "execution_count": null,
   "metadata": {},
   "outputs": [],
   "source": [
    "X_test.drop(columns=['EMD1_ACT_InverterState',\n",
    " 'EMD2_ACT_InverterState',\n",
    " 'EMD3_ACT_InverterState',\n",
    " 'EMD4_ACT_InverterState'],inplace=True)"
   ]
  },
  {
   "cell_type": "code",
   "execution_count": null,
   "metadata": {},
   "outputs": [],
   "source": [
    "X_test = pd.DataFrame(scaler.fit_transform(X_test), \n",
    "                              columns=X_test.columns, \n",
    "                              index=X_test.index)\n",
    "X_pred = model.predict(np.array(X_test))\n",
    "X_pred = pd.DataFrame(X_pred, \n",
    "                      columns=X_test.columns)\n",
    "X_pred.index = X_test.index\n",
    "\n",
    "scored = pd.DataFrame(index=X_test.index)\n",
    "scored['Loss_mae'] = np.mean(np.abs(X_pred-X_test), axis = 1)\n",
    "scored['Threshold'] = 0.275\n",
    "scored['Anomaly'] = scored['Loss_mae'] > scored['Threshold']"
   ]
  },
  {
   "cell_type": "code",
   "execution_count": null,
   "metadata": {},
   "outputs": [],
   "source": [
    "scored['Time'] = dfNew['Date-Time']"
   ]
  },
  {
   "cell_type": "code",
   "execution_count": null,
   "metadata": {},
   "outputs": [],
   "source": [
    "scored[scored['Anomaly']==True]['Time'].head()"
   ]
  },
  {
   "cell_type": "code",
   "execution_count": null,
   "metadata": {},
   "outputs": [],
   "source": [
    "scored['Loss_mae'].max()"
   ]
  },
  {
   "cell_type": "code",
   "execution_count": null,
   "metadata": {},
   "outputs": [],
   "source": [
    "dfNew[cols].max()"
   ]
  },
  {
   "cell_type": "markdown",
   "metadata": {},
   "source": [
    "# ZZ0221 failed on Feb 5 model predcited on Jan 15th "
   ]
  },
  {
   "cell_type": "code",
   "execution_count": null,
   "metadata": {},
   "outputs": [],
   "source": [
    "dfNew = pd.read_excel(r\"W:\\KFE\\02_Members\\08_Ganesh\\Lakshmi-NN\\Current\\Data_FailedCases_Recent\\221_Nov05_to_Feb5_20FailedM3.xlsx\")"
   ]
  },
  {
   "cell_type": "code",
   "execution_count": null,
   "metadata": {},
   "outputs": [],
   "source": []
  },
  {
   "cell_type": "code",
   "execution_count": null,
   "metadata": {},
   "outputs": [],
   "source": [
    "X_test1 = dfNew[dfNew['Date-Time']>=datetime.datetime.strptime(\"2019-11-01\",\"%Y-%m-%d\")]"
   ]
  },
  {
   "cell_type": "code",
   "execution_count": null,
   "metadata": {},
   "outputs": [],
   "source": [
    "X_test = X_test1.copy()\n",
    "X_test.drop(columns=['Date-Time','t'],inplace=True)"
   ]
  },
  {
   "cell_type": "code",
   "execution_count": null,
   "metadata": {},
   "outputs": [],
   "source": [
    "X_test.drop(columns=['EMD1_ACT_InverterState',\n",
    " 'EMD2_ACT_InverterState',\n",
    " 'EMD3_ACT_InverterState',\n",
    " 'EMD4_ACT_InverterState'],inplace=True)"
   ]
  },
  {
   "cell_type": "code",
   "execution_count": null,
   "metadata": {},
   "outputs": [],
   "source": [
    "X_test = pd.DataFrame(scaler.fit_transform(X_test), \n",
    "                              columns=X_test.columns, \n",
    "                              index=X_test.index)\n",
    "X_pred = model.predict(np.array(X_test))\n",
    "X_pred = pd.DataFrame(X_pred, \n",
    "                      columns=X_test.columns)\n",
    "X_pred.index = X_test.index\n",
    "\n",
    "scored = pd.DataFrame(index=X_test.index)\n",
    "scored['Loss_mae'] = np.mean(np.abs(X_pred-X_test), axis = 1)\n",
    "scored['Threshold'] = 0.24\n",
    "scored['Anomaly'] = scored['Loss_mae'] > scored['Threshold']"
   ]
  },
  {
   "cell_type": "code",
   "execution_count": null,
   "metadata": {},
   "outputs": [],
   "source": [
    "scored['Time'] = X_test1['Date-Time']"
   ]
  },
  {
   "cell_type": "code",
   "execution_count": null,
   "metadata": {},
   "outputs": [],
   "source": [
    "scored[scored['Anomaly']==True]['Time'].head()"
   ]
  },
  {
   "cell_type": "code",
   "execution_count": null,
   "metadata": {},
   "outputs": [],
   "source": [
    "scored['Loss_mae'].max()"
   ]
  },
  {
   "cell_type": "markdown",
   "metadata": {},
   "source": [
    "# ZZ0214 Failed on June 30 Model  predicted on 18th june"
   ]
  },
  {
   "cell_type": "code",
   "execution_count": null,
   "metadata": {},
   "outputs": [],
   "source": [
    "dfNew = pd.read_excel(r\"W:\\KFE\\02_Members\\08_Ganesh\\Lakshmi-NN\\Current\\Data_FailedCases_Recent\\214_March_to_June30_20FailedM3.xlsx\")"
   ]
  },
  {
   "cell_type": "code",
   "execution_count": null,
   "metadata": {},
   "outputs": [],
   "source": []
  },
  {
   "cell_type": "code",
   "execution_count": null,
   "metadata": {},
   "outputs": [],
   "source": [
    "X_test1 = dfNew[dfNew['Date-Time']>=datetime.datetime.strptime(\"2020-06-01\",\"%Y-%m-%d\")]\n",
    "X_test = X_test1.copy()\n",
    "X_test.drop(columns=['Date-Time','t'],inplace=True)\n",
    "X_test.drop(columns=['EMD1_ACT_InverterState',\n",
    " 'EMD2_ACT_InverterState',\n",
    " 'EMD3_ACT_InverterState',\n",
    " 'EMD4_ACT_InverterState'],inplace=True)\n",
    "X_test = pd.DataFrame(scaler.fit_transform(X_test), \n",
    "                              columns=X_test.columns, \n",
    "                              index=X_test.index)\n",
    "X_pred = model.predict(np.array(X_test))\n",
    "X_pred = pd.DataFrame(X_pred, \n",
    "                      columns=X_test.columns)\n",
    "X_pred.index = X_test.index\n",
    "\n",
    "scored = pd.DataFrame(index=X_test.index)\n",
    "scored['Loss_mae'] = np.mean(np.abs(X_pred-X_test), axis = 1)\n",
    "scored['Threshold'] = 0.275\n",
    "scored['Anomaly'] = scored['Loss_mae'] > scored['Threshold']\n",
    "scored['Time'] = X_test1['Date-Time']\n",
    "scored[scored['Anomaly']==True]['Time'].head()"
   ]
  },
  {
   "cell_type": "code",
   "execution_count": null,
   "metadata": {},
   "outputs": [],
   "source": [
    "scored['Loss_mae'].max()"
   ]
  },
  {
   "cell_type": "markdown",
   "metadata": {},
   "source": [
    "# ZZ0213 Failed on Feb 20 Model Predcited on Jan21st"
   ]
  },
  {
   "cell_type": "code",
   "execution_count": null,
   "metadata": {},
   "outputs": [],
   "source": [
    "dfNew = pd.read_excel(r\"W:\\KFE\\02_Members\\08_Ganesh\\Lakshmi-NN\\Current\\Data_FailedCases_Recent\\213_Nov18_to_Feb18_20FailedM1.xlsx\")"
   ]
  },
  {
   "cell_type": "code",
   "execution_count": null,
   "metadata": {},
   "outputs": [],
   "source": []
  },
  {
   "cell_type": "code",
   "execution_count": null,
   "metadata": {},
   "outputs": [],
   "source": [
    "X_test1 = dfNew[dfNew['Date-Time']>=datetime.datetime.strptime(\"2020-01-18\",\"%Y-%m-%d\")]\n",
    "X_test = X_test1.copy()\n",
    "X_test.drop(columns=['Date-Time','t'],inplace=True)\n",
    "X_test.drop(columns=['EMD1_ACT_InverterState',\n",
    " 'EMD2_ACT_InverterState',\n",
    " 'EMD3_ACT_InverterState',\n",
    " 'EMD4_ACT_InverterState'],inplace=True)\n",
    "X_test = pd.DataFrame(scaler.fit_transform(X_test), \n",
    "                              columns=X_test.columns, \n",
    "                              index=X_test.index)\n",
    "X_pred = model.predict(np.array(X_test))\n",
    "X_pred = pd.DataFrame(X_pred, \n",
    "                      columns=X_test.columns)\n",
    "X_pred.index = X_test.index\n",
    "\n",
    "scored = pd.DataFrame(index=X_test.index)\n",
    "scored['Loss_mae'] = np.mean(np.abs(X_pred-X_test), axis = 1)\n",
    "scored['Threshold'] = 0.275\n",
    "scored['Anomaly'] = scored['Loss_mae'] > scored['Threshold']\n",
    "scored['Time'] = X_test1['Date-Time']\n",
    "scored[scored['Anomaly']==True]['Time'].head()"
   ]
  },
  {
   "cell_type": "code",
   "execution_count": null,
   "metadata": {},
   "outputs": [],
   "source": [
    "scored['Loss_mae'].max()"
   ]
  },
  {
   "cell_type": "code",
   "execution_count": null,
   "metadata": {},
   "outputs": [],
   "source": []
  },
  {
   "cell_type": "markdown",
   "metadata": {},
   "source": [
    "# ZZ0211 Failed on June 30 Model predicted on 18th May."
   ]
  },
  {
   "cell_type": "code",
   "execution_count": null,
   "metadata": {},
   "outputs": [],
   "source": [
    "dfNew = pd.read_excel(r\"W:\\KFE\\02_Members\\08_Ganesh\\Lakshmi-NN\\Current\\Data_FailedCases_Recent\\211_March18_to_June18_20FailedM3.xlsx\")"
   ]
  },
  {
   "cell_type": "code",
   "execution_count": null,
   "metadata": {},
   "outputs": [],
   "source": [
    "dfNew.head()"
   ]
  },
  {
   "cell_type": "code",
   "execution_count": null,
   "metadata": {},
   "outputs": [],
   "source": [
    "X_test1 = dfNew[dfNew['Date-Time']>=datetime.datetime.strptime(\"2020-03-18\",\"%Y-%m-%d\")]\n",
    "X_test = X_test1.copy()\n",
    "X_test.drop(columns=['Date-Time','t'],inplace=True)\n",
    "X_test.drop(columns=['EMD1_ACT_InverterState',\n",
    " 'EMD2_ACT_InverterState',\n",
    " 'EMD3_ACT_InverterState',\n",
    " 'EMD4_ACT_InverterState'],inplace=True)\n",
    "X_test = pd.DataFrame(scaler.fit_transform(X_test), \n",
    "                              columns=X_test.columns, \n",
    "                              index=X_test.index)\n",
    "X_pred = model.predict(np.array(X_test))\n",
    "X_pred = pd.DataFrame(X_pred, \n",
    "                      columns=X_test.columns)\n",
    "X_pred.index = X_test.index\n",
    "\n",
    "scored = pd.DataFrame(index=X_test.index)\n",
    "scored['Loss_mae'] = np.mean(np.abs(X_pred-X_test), axis = 1)\n",
    "scored['Threshold'] = 0.275\n",
    "scored['Anomaly'] = scored['Loss_mae'] > scored['Threshold']\n",
    "scored['Time'] = X_test1['Date-Time']\n",
    "scored[scored['Anomaly']==True]['Time'].head()"
   ]
  },
  {
   "cell_type": "code",
   "execution_count": null,
   "metadata": {},
   "outputs": [],
   "source": [
    "scored['Loss_mae'].max()"
   ]
  },
  {
   "cell_type": "markdown",
   "metadata": {},
   "source": [
    "# Good case ZZ0211  Model : Good"
   ]
  },
  {
   "cell_type": "code",
   "execution_count": null,
   "metadata": {},
   "outputs": [],
   "source": [
    "dfNew = pd.read_excel(r\"W:\\KFE\\02_Members\\08_Ganesh\\Lakshmi-NN\\Current\\Data_NotFailed_Cases\\211_Dec18_to_March18_20NotFailed.xlsx\")"
   ]
  },
  {
   "cell_type": "code",
   "execution_count": null,
   "metadata": {},
   "outputs": [],
   "source": [
    "\n",
    "X_test = dfNew.copy()\n",
    "X_test.drop(columns=['Date-Time','t'],inplace=True)\n",
    "X_test.drop(columns=['EMD1_ACT_InverterState',\n",
    " 'EMD2_ACT_InverterState',\n",
    " 'EMD3_ACT_InverterState',\n",
    " 'EMD4_ACT_InverterState'],inplace=True)\n",
    "X_test = pd.DataFrame(scaler.fit_transform(X_test), \n",
    "                              columns=X_test.columns, \n",
    "                              index=X_test.index)\n",
    "X_pred = model.predict(np.array(X_test))\n",
    "X_pred = pd.DataFrame(X_pred, \n",
    "                      columns=X_test.columns)\n",
    "X_pred.index = X_test.index\n",
    "\n",
    "scored = pd.DataFrame(index=X_test.index)\n",
    "scored['Loss_mae'] = np.mean(np.abs(X_pred-X_test), axis = 1)\n",
    "scored['Threshold'] = 0.275\n",
    "scored['Anomaly'] = scored['Loss_mae'] > scored['Threshold']\n",
    "scored['Time'] = dfNew['Date-Time']\n",
    "scored[scored['Anomaly']==True]['Time'].head()"
   ]
  },
  {
   "cell_type": "code",
   "execution_count": null,
   "metadata": {},
   "outputs": [],
   "source": [
    "scored['Loss_mae'].max()"
   ]
  },
  {
   "cell_type": "markdown",
   "metadata": {},
   "source": [
    "# Good case ZZ0213  Model : Good "
   ]
  },
  {
   "cell_type": "code",
   "execution_count": null,
   "metadata": {},
   "outputs": [],
   "source": [
    "dfNew = pd.read_excel(r\"W:\\KFE\\02_Members\\08_Ganesh\\Lakshmi-NN\\Current\\Data_NotFailed_Cases\\216_Dec23_to_March23_20NotFailed.xlsx\")"
   ]
  },
  {
   "cell_type": "code",
   "execution_count": null,
   "metadata": {},
   "outputs": [],
   "source": [
    "X_test = dfNew.copy()\n",
    "X_test.drop(columns=['Date-Time','t'],inplace=True)\n",
    "X_test.drop(columns=['EMD1_ACT_InverterState',\n",
    " 'EMD2_ACT_InverterState',\n",
    " 'EMD3_ACT_InverterState',\n",
    " 'EMD4_ACT_InverterState'],inplace=True)\n",
    "X_test = pd.DataFrame(scaler.fit_transform(X_test), \n",
    "                              columns=X_test.columns, \n",
    "                              index=X_test.index)\n",
    "X_pred = model.predict(np.array(X_test))\n",
    "X_pred = pd.DataFrame(X_pred, \n",
    "                      columns=X_test.columns)\n",
    "X_pred.index = X_test.index\n",
    "\n",
    "scored = pd.DataFrame(index=X_test.index)\n",
    "scored['Loss_mae'] = np.mean(np.abs(X_pred-X_test), axis = 1)\n",
    "scored['Threshold'] = 0.275\n",
    "scored['Anomaly'] = scored['Loss_mae'] > scored['Threshold']\n",
    "scored['Time'] = dfNew['Date-Time']\n",
    "scored[scored['Anomaly']==True]['Time'].head()"
   ]
  },
  {
   "cell_type": "code",
   "execution_count": null,
   "metadata": {},
   "outputs": [],
   "source": [
    "scored['Loss_mae'].max()"
   ]
  },
  {
   "cell_type": "markdown",
   "metadata": {},
   "source": [
    "# Good case ZZ0216  Model : Bad"
   ]
  },
  {
   "cell_type": "code",
   "execution_count": null,
   "metadata": {},
   "outputs": [],
   "source": [
    "dfNew = pd.read_excel(r\"W:\\KFE\\02_Members\\08_Ganesh\\Lakshmi-NN\\Current\\Data_NotFailed_Cases\\216_July4_to_Oct4_20NotFailed.xlsx\")"
   ]
  },
  {
   "cell_type": "code",
   "execution_count": null,
   "metadata": {},
   "outputs": [],
   "source": [
    "dfNew = dfNew[dfNew['BM03_IsoRes_Cval']<65535]\n",
    "dfNew = dfNew[dfNew['Ax2RiFixBearTemp']<100]                   "
   ]
  },
  {
   "cell_type": "code",
   "execution_count": null,
   "metadata": {},
   "outputs": [],
   "source": [
    "X_test = dfNew.copy()\n",
    "X_test.drop(columns=['Date-Time','t'],inplace=True)\n",
    "X_test.drop(columns=['EMD1_ACT_InverterState',\n",
    " 'EMD2_ACT_InverterState',\n",
    " 'EMD3_ACT_InverterState',\n",
    " 'EMD4_ACT_InverterState'],inplace=True)\n",
    "X_test = pd.DataFrame(scaler.fit_transform(X_test), \n",
    "                              columns=X_test.columns, \n",
    "                              index=X_test.index)\n",
    "X_pred = model.predict(np.array(X_test))\n",
    "X_pred = pd.DataFrame(X_pred, \n",
    "                      columns=X_test.columns)\n",
    "X_pred.index = X_test.index\n",
    "\n",
    "scored = pd.DataFrame(index=X_test.index)\n",
    "scored['Loss_mae'] = np.mean(np.abs(X_pred-X_test), axis = 1)\n",
    "scored['Threshold'] = 0.26\n",
    "scored['Anomaly'] = scored['Loss_mae'] > scored['Threshold']\n",
    "scored['Time'] = dfNew['Date-Time']\n",
    "scored[scored['Anomaly']==True]['Time'].head()"
   ]
  },
  {
   "cell_type": "code",
   "execution_count": null,
   "metadata": {},
   "outputs": [],
   "source": [
    "scored['Loss_mae'].max()"
   ]
  },
  {
   "cell_type": "code",
   "execution_count": null,
   "metadata": {},
   "outputs": [],
   "source": [
    "len(scored[scored['Anomaly']==True]['Time'])"
   ]
  },
  {
   "cell_type": "code",
   "execution_count": null,
   "metadata": {},
   "outputs": [],
   "source": [
    "cols = ['AccelPdlPosn_Cval', 'Ax1LeFixBearTemp', 'Ax1RiFixBearTemp',\n",
    "       'Ax2LeFixBearTemp', 'Ax2RiFixBearTemp', 'BM03_IsoRes_Cval', 'Date-Time',\n",
    "       'EMD1_ACT_InverterState', 'EMD1_ACT_MotorSpeed',\n",
    "       'EMD1_ACT_MotorTemperature', 'EMD1_ACT_Torque',\n",
    "       'EMD2_ACT_InverterState', 'EMD2_ACT_MotorSpeed',\n",
    "       'EMD2_ACT_MotorTemperature', 'EMD2_ACT_Torque',\n",
    "       'EMD3_ACT_InverterState', 'EMD3_ACT_MotorSpeed',\n",
    "       'EMD3_ACT_MotorTemperature', 'EMD3_ACT_Torque',\n",
    "       'EMD4_ACT_InverterState', 'EMD4_ACT_MotorSpeed',\n",
    "       'EMD4_ACT_MotorTemperature', 'EMD4_ACT_Torque', 'StwAngl_Cval_SWS',\n",
    "       'VehSpd_Cval_CPC']\n",
    "dfNew[dfNew['Date-Time']==datetime.datetime.strptime(\"2020-07-22 17:35:04\",'%Y-%m-%d %H:%M:%S')][cols].values.tolist()"
   ]
  },
  {
   "cell_type": "code",
   "execution_count": null,
   "metadata": {},
   "outputs": [],
   "source": [
    "dfNew[['AccelPdlPosn_Cval', 'Ax1LeFixBearTemp', 'Ax1RiFixBearTemp',\n",
    "       'Ax2LeFixBearTemp', 'Ax2RiFixBearTemp', 'BM03_IsoRes_Cval', 'Date-Time',\n",
    "       'EMD1_ACT_InverterState', 'EMD1_ACT_MotorSpeed',\n",
    "       'EMD1_ACT_MotorTemperature', 'EMD1_ACT_Torque',\n",
    "       'EMD2_ACT_InverterState', 'EMD2_ACT_MotorSpeed',\n",
    "       'EMD2_ACT_MotorTemperature', 'EMD2_ACT_Torque',\n",
    "       'EMD3_ACT_InverterState', 'EMD3_ACT_MotorSpeed',\n",
    "       'EMD3_ACT_MotorTemperature', 'EMD3_ACT_Torque',\n",
    "       'EMD4_ACT_InverterState', 'EMD4_ACT_MotorSpeed',\n",
    "       'EMD4_ACT_MotorTemperature', 'EMD4_ACT_Torque', 'StwAngl_Cval_SWS',\n",
    "       'VehSpd_Cval_CPC']].max()"
   ]
  },
  {
   "cell_type": "code",
   "execution_count": null,
   "metadata": {},
   "outputs": [],
   "source": []
  }
 ],
 "metadata": {
  "kernelspec": {
   "display_name": "Python 3 (ipykernel)",
   "language": "python",
   "name": "python3"
  },
  "language_info": {
   "codemirror_mode": {
    "name": "ipython",
    "version": 3
   },
   "file_extension": ".py",
   "mimetype": "text/x-python",
   "name": "python",
   "nbconvert_exporter": "python",
   "pygments_lexer": "ipython3",
   "version": "3.7.1"
  }
 },
 "nbformat": 4,
 "nbformat_minor": 2
}
